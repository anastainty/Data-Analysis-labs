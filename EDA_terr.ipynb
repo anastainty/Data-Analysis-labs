It's an Exploratory data analysis fof Global Terrorims DataBase https://www.kaggle.com/datasets/START-UMD/gtd/data
